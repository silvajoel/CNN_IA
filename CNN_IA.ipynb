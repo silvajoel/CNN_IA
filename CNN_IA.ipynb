{
  "nbformat": 4,
  "nbformat_minor": 0,
  "metadata": {
    "colab": {
      "name": "CNN_IA.ipynb",
      "provenance": [],
      "collapsed_sections": [],
      "include_colab_link": true
    },
    "kernelspec": {
      "name": "python3",
      "display_name": "Python 3"
    },
    "language_info": {
      "name": "python"
    }
  },
  "cells": [
    {
      "cell_type": "markdown",
      "metadata": {
        "id": "view-in-github",
        "colab_type": "text"
      },
      "source": [
        "<a href=\"https://colab.research.google.com/github/silvajoel/CNN_IA/blob/main/CNN_IA.ipynb\" target=\"_parent\"><img src=\"https://colab.research.google.com/assets/colab-badge.svg\" alt=\"Open In Colab\"/></a>"
      ]
    },
    {
      "cell_type": "code",
      "execution_count": null,
      "metadata": {
        "id": "_NZHwrxOBGYp"
      },
      "outputs": [],
      "source": [
        "!pip install tensorflow"
      ]
    },
    {
      "cell_type": "code",
      "source": [
        "import os\n",
        "import tensorflow as tf\n",
        "from tensorflow import keras\n",
        "from tensorflow.keras import layers, optimizers, datasets\n",
        "from matplotlib import pyplot as plt\n",
        "import numpy as np\n",
        "from tensorflow.keras import layers, optimizers, datasets\n",
        "from tensorflow.keras.optimizers import RMSprop\n",
        "from tensorflow.keras.optimizers import Adam\n",
        "from tensorflow.keras.optimizers import SGD\n",
        "from tensorflow.keras.optimizers import Adadelta\n",
        "from tensorflow.keras.optimizers import Adagrad\n",
        "from tensorflow.keras.optimizers import Adamax\n",
        "from keras.datasets import mnist\n",
        "\n",
        "(x_train_raw, y_train_raw), (x_test_raw, y_test_raw) = mnist.load_data()\n",
        "\n",
        "(x_train_raw, y_train_raw), (x_test_raw, y_test_raw) = datasets.mnist.load_data()\n",
        "\n",
        "x_train_raw = x_train_raw.reshape((60000,28,28,1))\n",
        "x_train_raw = x_train_raw.astype('float32')/255\n",
        "\n",
        "x_test_raw = x_test_raw.reshape((10000,28,28,1))\n",
        "x_test_raw = x_test_raw.astype('float32')/255\n",
        "\n",
        "y_train_raw = keras.utils.to_categorical(y_train_raw)\n",
        "y_test_raw = keras.utils.to_categorical(y_test_raw)"
      ],
      "metadata": {
        "id": "Dr8YY6lQBeQ6"
      },
      "execution_count": null,
      "outputs": []
    },
    {
      "cell_type": "markdown",
      "source": [
        "# **Construindo o Modelo CNN**"
      ],
      "metadata": {
        "id": "wUb_jAa-KFjw"
      }
    },
    {
      "cell_type": "code",
      "source": [
        "model=keras.Sequential() # Create a network sequence.\n",
        "## Add the first convolutional layer and pooling layer.\n",
        "model.add(keras.layers.Conv2D(filters=32,kernel_size = 5,strides = (1,1),\n",
        "padding = 'same',activation = tf.nn.relu,input_shape = (28,28,1)))\n",
        "model.add(keras.layers.MaxPool2D(pool_size=(2,2), strides = (2,2), padding = 'valid'))\n",
        "## Add the second convolutional layer and pooling layer.\n",
        "model.add(keras.layers.Conv2D(filters=64,kernel_size = 3,strides = (1,1),padding = 'same',activation = tf.nn.relu))\n",
        "model.add(keras.layers.MaxPool2D(pool_size=(2,2), strides = (2,2), padding = 'valid'))\n",
        "## Add a dropout layer to reduce overfitting.\n",
        "model.add(keras.layers.Dropout(0.25))\n",
        "model.add(keras.layers.Flatten())\n",
        "## Add two fully connected layers.\n",
        "model.add(keras.layers.Dense(units=128,activation = tf.nn.relu)) # Testes de funções de ativação\n",
        "model.add(keras.layers.Dropout(0.5))\n",
        "model.add(keras.layers.Dense(units=10,activation = tf.nn.softmax))"
      ],
      "metadata": {
        "id": "Fnv8jT4UBs4y"
      },
      "execution_count": null,
      "outputs": []
    },
    {
      "cell_type": "markdown",
      "source": [
        "Na rede anterior, duas camadas convolucionais e camadas de pool são adicionadas primeiro usando\n",
        "keras.layers. Depois, uma camada de dropout é adicionada para evitar overfitting. Finalmente,\n",
        "duas camadas de conexão completas são adicionadas"
      ],
      "metadata": {
        "id": "bk0yobpTtCTM"
      }
    },
    {
      "cell_type": "markdown",
      "source": [
        "# **Compilando e Treinando o Modelo CNN**"
      ],
      "metadata": {
        "id": "TjfJROjcKMVB"
      }
    },
    {
      "cell_type": "code",
      "source": [
        "# Expand data dimensions to adapt to the CNN model.\n",
        "# optimizador escolhido: Adagrad pois é o melhor de acordo os testes\n",
        "\n",
        "model.compile(optimizer= Adagrad(), loss='categorical_crossentropy', metrics=['accuracy'])\n",
        "model.fit(x=x_train_raw, y=y_train_raw, epochs=25, batch_size=128) # batch_size = 32 com épocas = 5 (melhor até o momento) \n"
      ],
      "metadata": {
        "id": "bAW537_-Bz6E"
      },
      "execution_count": null,
      "outputs": []
    },
    {
      "cell_type": "markdown",
      "source": [
        "Durante o treinamento, os dados de treinamento da rede são iterados apenas cinco vezes.\n",
        "Você pode aumentar o número de iterações de rede para verificar o efeito.\n",
        "\n",
        "*obs: Como o número de processos fisicos geralmente é uma potência de 2, usar um número de processo virutal diferente de uma potência de 2 leva a um desempenho ruim."
      ],
      "metadata": {
        "id": "H0tslFDLrenQ"
      }
    },
    {
      "cell_type": "markdown",
      "source": [
        "# **Testando o Modelo CNN**"
      ],
      "metadata": {
        "id": "ZAVXknU0KcFN"
      }
    },
    {
      "cell_type": "code",
      "source": [
        "test_loss,test_acc=model.evaluate(x=x_train_raw,y=y_train_raw)\n",
        "print(\"Test Accuracy %.2f\"%test_acc)"
      ],
      "metadata": {
        "id": "4l8c0rLJCazq"
      },
      "execution_count": null,
      "outputs": []
    },
    {
      "cell_type": "markdown",
      "source": [
        "# **Salvando o Modelo CNN**"
      ],
      "metadata": {
        "id": "eIYdZ33tJqlp"
      }
    },
    {
      "cell_type": "code",
      "source": [
        "logdir='./mnist_model'\n",
        "if not os.path.exists(logdir):\n",
        "      os.mkdir(logdir)\n",
        "model.save(logdir+'/final_CNN_model.h5')"
      ],
      "metadata": {
        "id": "HAAKwCAo9D5v"
      },
      "execution_count": null,
      "outputs": []
    }
  ]
}